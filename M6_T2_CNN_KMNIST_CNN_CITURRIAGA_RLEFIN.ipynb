{
  "cells": [
    {
      "cell_type": "markdown",
      "metadata": {
        "id": "view-in-github",
        "colab_type": "text"
      },
      "source": [
        "<a href=\"https://colab.research.google.com/github/citurriagab/KMNIST_CNN_CIturriaga_RLefin/blob/main/M6_T2_CNN_KMNIST_CNN_CITURRIAGA_RLEFIN.ipynb\" target=\"_parent\"><img src=\"https://colab.research.google.com/assets/colab-badge.svg\" alt=\"Open In Colab\"/></a>"
      ]
    },
    {
      "cell_type": "markdown",
      "metadata": {
        "id": "a2f7e3dd"
      },
      "source": [
        "### Trabajo N° 2\n",
        "\n",
        "#### Deep Learning \n",
        "\n",
        "**Análisis Supervisado**\n",
        "\n",
        "**Clasificación**\n",
        "\n",
        "*Carla Iturriaga Barrios*\n",
        "\n",
        "*Rodrigo Lefin Carrasco*\n",
        "\n",
        "Septiembre, 2022"
      ],
      "id": "a2f7e3dd"
    },
    {
      "cell_type": "markdown",
      "metadata": {
        "id": "OQQ5SQU-nwfB"
      },
      "source": [
        "### Presentación del proyecto.\n",
        "\n",
        "*Una empresa de consultoria que presta servicios de traducción, utilizando herramientas de Deep Learning, tiene un nuevo cliente que requiere **identificar letras del japonés clásico pero desde imágenes**.*\n",
        "\n",
        "**Fuente de datos**: *Dataset correspondiente a imagenes de datos reimpresos del japonés clásico \"Kuzushiji\" obtenido directamente de la librería pytorch:* [KMNIST](https://pytorch.org/vision/stable/generated/torchvision.datasets.KMNIST.html#torchvision.datasets.KMNIST)."
      ],
      "id": "OQQ5SQU-nwfB"
    },
    {
      "cell_type": "markdown",
      "metadata": {
        "id": "fOACytchpSS6"
      },
      "source": [
        "### Objetivo del proyecto.\n",
        "\n",
        "1. *Construir un modelo que sea capaz de clasificar y categorizar en letras del japonés clásico un conjunto de imágenes de la letra desde textos reimpresos.*\n",
        "\n",
        "**Se establece como valor minimo deseable que las predicciones del modelo construido, sean correctas en, al menos, un 80%.**"
      ],
      "id": "fOACytchpSS6"
    },
    {
      "cell_type": "markdown",
      "metadata": {
        "id": "5cAciMwnuxWa"
      },
      "source": [
        "### Preparación del entorno"
      ],
      "id": "5cAciMwnuxWa"
    },
    {
      "cell_type": "code",
      "execution_count": null,
      "metadata": {
        "id": "2b2f4160"
      },
      "outputs": [],
      "source": [
        "from torchvision import datasets\n",
        "from torchvision import transforms \n",
        "import torch\n",
        "import torch.nn as nn\n",
        "import torch.nn.functional as F\n",
        "from matplotlib import pyplot as plt\n",
        "import datetime\n",
        "import torchvision\n",
        "import numpy as np\n",
        "from sklearn.metrics import accuracy_score, precision_score, recall_score, roc_auc_score, f1_score"
      ],
      "id": "2b2f4160"
    },
    {
      "cell_type": "markdown",
      "metadata": {
        "id": "TNHtQKbHu26S"
      },
      "source": [
        "### 1: Datos"
      ],
      "id": "TNHtQKbHu26S"
    },
    {
      "cell_type": "markdown",
      "metadata": {
        "id": "Ac85q8x0rEZF"
      },
      "source": [
        "*Los siguientes datos corresponden a una base de 70.000 imagenes de 28x28 con la reimpresión de textos japoneses. La categorización de ellas se divide en 10 clases correspondientes a letras del japonés clásico, tales como: **'o', 'ki', 'su', 'tsu', etc**.*"
      ],
      "id": "Ac85q8x0rEZF"
    },
    {
      "cell_type": "code",
      "execution_count": null,
      "metadata": {
        "colab": {
          "base_uri": "https://localhost:8080/",
          "height": 422,
          "referenced_widgets": [
            "4249983c8f4b493ea242293c34b78dec",
            "e1874cdb01bd47598723a376725f26d8",
            "271f73384d5741f5ab8ce789a8e704bf",
            "d194eff60a1849709f4336193a3c8d37",
            "9e144107e9a04b4db080b90b810b3991",
            "63a7862bb2fe4e97aa0be5c83238e58b",
            "c9e14ec33b3c4ff1b2059ae6c59ccf8c",
            "866110e5e6184400b0e788d1d2df4264",
            "fe40e0c5f5824c4197b9dafafcf8b787",
            "fad7e169b7084440b06f5d6f2f4cb62e",
            "c286b175dac14529809c03789774a5a6",
            "e9f27e8731bc42a687e9f6959e1776f5",
            "152f454add3d466287b00176585bade5",
            "eb3d0b837dfc473d8719e1d2d331c234",
            "cc186e031feb4fbea5592b40cc1ee282",
            "90c732b4698d421cb47d0a6ec03fd9d6",
            "447bc7f8e115474e97020311dbb645b1",
            "e3a43cfc829d419ba07e59dbf7f733c8",
            "6fff367d4bcd45039ddedef28f28f383",
            "6de3d58b9afc4fa9b2ee4ede54fea244",
            "2e72f43b75654d79b95353028b7606c6",
            "abdd3ecb9d6140be9f763e8cbb592c94",
            "a416e024f723440fa7ec7ebfb328ff7b",
            "0ad12487ece14190a1ea65623c6b619a",
            "38227f11d01e4b35887166e227e7de05",
            "804321f1379a42e6892889b8adea58d2",
            "39722d17cf6741a4b9631642a90beca2",
            "dbd0d40bfa754dfcb78d43188e9bde67",
            "c814ee59f735499ea95243e417b60725",
            "a246049c7cb44b148bbb0aa8c6b97d17",
            "b507a6a844c24ef5a2a68bcce053dfe0",
            "65d43522fa8e4bfca17471bc614a86de",
            "e65cb1e7237f4fd0bbbae8de887d2724",
            "d60056fc3d0f459e849da12f74a4245a",
            "a5b48714cf334ce09c542f7e3ab312bb",
            "7e5f0e408a964d4f9f7d761e19df6614",
            "e7830516df4e40be82edbd7c6040ea81",
            "6a8e017178674e5494279451f7f6ceaa",
            "e0e6df99e8ad4cee8e1f8e01642a3dc4",
            "6b6d7e90eb3444068c0cb826d4024c5c",
            "f2710ee6d3eb4acc927857190e7e81a2",
            "ea10541380234adc9dd2028bb881acef",
            "3d4b28783ac84d78946e068de7d12a4f",
            "f3d444f7fe2644dca71b6ca0ab4d5e80"
          ]
        },
        "id": "LxWubopMwATj",
        "outputId": "d1112df8-e75f-446e-e341-6a5de073badc"
      },
      "outputs": [
        {
          "output_type": "stream",
          "name": "stdout",
          "text": [
            "Downloading http://codh.rois.ac.jp/kmnist/dataset/kmnist/train-images-idx3-ubyte.gz\n",
            "Downloading http://codh.rois.ac.jp/kmnist/dataset/kmnist/train-images-idx3-ubyte.gz to ./data/KMNIST/raw/train-images-idx3-ubyte.gz\n"
          ]
        },
        {
          "output_type": "display_data",
          "data": {
            "text/plain": [
              "  0%|          | 0/18165135 [00:00<?, ?it/s]"
            ],
            "application/vnd.jupyter.widget-view+json": {
              "version_major": 2,
              "version_minor": 0,
              "model_id": "4249983c8f4b493ea242293c34b78dec"
            }
          },
          "metadata": {}
        },
        {
          "output_type": "stream",
          "name": "stdout",
          "text": [
            "Extracting ./data/KMNIST/raw/train-images-idx3-ubyte.gz to ./data/KMNIST/raw\n",
            "\n",
            "Downloading http://codh.rois.ac.jp/kmnist/dataset/kmnist/train-labels-idx1-ubyte.gz\n",
            "Downloading http://codh.rois.ac.jp/kmnist/dataset/kmnist/train-labels-idx1-ubyte.gz to ./data/KMNIST/raw/train-labels-idx1-ubyte.gz\n"
          ]
        },
        {
          "output_type": "display_data",
          "data": {
            "text/plain": [
              "  0%|          | 0/29497 [00:00<?, ?it/s]"
            ],
            "application/vnd.jupyter.widget-view+json": {
              "version_major": 2,
              "version_minor": 0,
              "model_id": "e9f27e8731bc42a687e9f6959e1776f5"
            }
          },
          "metadata": {}
        },
        {
          "output_type": "stream",
          "name": "stdout",
          "text": [
            "Extracting ./data/KMNIST/raw/train-labels-idx1-ubyte.gz to ./data/KMNIST/raw\n",
            "\n",
            "Downloading http://codh.rois.ac.jp/kmnist/dataset/kmnist/t10k-images-idx3-ubyte.gz\n",
            "Downloading http://codh.rois.ac.jp/kmnist/dataset/kmnist/t10k-images-idx3-ubyte.gz to ./data/KMNIST/raw/t10k-images-idx3-ubyte.gz\n"
          ]
        },
        {
          "output_type": "display_data",
          "data": {
            "text/plain": [
              "  0%|          | 0/3041136 [00:00<?, ?it/s]"
            ],
            "application/vnd.jupyter.widget-view+json": {
              "version_major": 2,
              "version_minor": 0,
              "model_id": "a416e024f723440fa7ec7ebfb328ff7b"
            }
          },
          "metadata": {}
        },
        {
          "output_type": "stream",
          "name": "stdout",
          "text": [
            "Extracting ./data/KMNIST/raw/t10k-images-idx3-ubyte.gz to ./data/KMNIST/raw\n",
            "\n",
            "Downloading http://codh.rois.ac.jp/kmnist/dataset/kmnist/t10k-labels-idx1-ubyte.gz\n",
            "Downloading http://codh.rois.ac.jp/kmnist/dataset/kmnist/t10k-labels-idx1-ubyte.gz to ./data/KMNIST/raw/t10k-labels-idx1-ubyte.gz\n"
          ]
        },
        {
          "output_type": "display_data",
          "data": {
            "text/plain": [
              "  0%|          | 0/5120 [00:00<?, ?it/s]"
            ],
            "application/vnd.jupyter.widget-view+json": {
              "version_major": 2,
              "version_minor": 0,
              "model_id": "d60056fc3d0f459e849da12f74a4245a"
            }
          },
          "metadata": {}
        },
        {
          "output_type": "stream",
          "name": "stdout",
          "text": [
            "Extracting ./data/KMNIST/raw/t10k-labels-idx1-ubyte.gz to ./data/KMNIST/raw\n",
            "\n"
          ]
        }
      ],
      "source": [
        "path = './data/'\n",
        "\n",
        "# configuración de dataset de entrenamiento y de prueba\n",
        "df = datasets.KMNIST(path, train=True, download=True)\n",
        "df_test = datasets.KMNIST(path, train=False, download=True)"
      ],
      "id": "LxWubopMwATj"
    },
    {
      "cell_type": "code",
      "execution_count": null,
      "metadata": {
        "colab": {
          "base_uri": "https://localhost:8080/"
        },
        "id": "gZdFVC0lxooW",
        "outputId": "01bd8811-0a2b-48e3-c220-2334d6c5e31f"
      },
      "outputs": [
        {
          "output_type": "stream",
          "name": "stdout",
          "text": [
            "Registros de entrenamiento: 60000\n",
            "Registros de prueba: 10000\n"
          ]
        }
      ],
      "source": [
        "# Largo del dataset\n",
        "print('Registros de entrenamiento:', len(df))\n",
        "print('Registros de prueba:', len(df_test))"
      ],
      "id": "gZdFVC0lxooW"
    },
    {
      "cell_type": "code",
      "execution_count": null,
      "metadata": {
        "colab": {
          "base_uri": "https://localhost:8080/"
        },
        "id": "3u3nNhXlx0d_",
        "outputId": "ab084f87-dbca-448e-cf0b-f47f8e60646c"
      },
      "outputs": [
        {
          "output_type": "execute_result",
          "data": {
            "text/plain": [
              "['o', 'ki', 'su', 'tsu', 'na', 'ha', 'ma', 'ya', 're', 'wo']"
            ]
          },
          "metadata": {},
          "execution_count": 4
        }
      ],
      "source": [
        "# Especificación de las etiquetas/label\n",
        "df.classes"
      ],
      "id": "3u3nNhXlx0d_"
    },
    {
      "cell_type": "markdown",
      "metadata": {
        "id": "SQHUf--KtdDS"
      },
      "source": [
        "#### Previsualización de imagenes del dataset\n",
        "\n",
        "*En adelante, se muestran algunos ejemplares de los registros del dataset KMNIST, correspondiente a la letra en compañía con su etiqueta o clase*"
      ],
      "id": "SQHUf--KtdDS"
    },
    {
      "cell_type": "code",
      "execution_count": null,
      "metadata": {
        "colab": {
          "base_uri": "https://localhost:8080/",
          "height": 298
        },
        "id": "uRzgApSDxFAj",
        "outputId": "96c24be3-70de-4819-ebe1-363ac563b2cc"
      },
      "outputs": [
        {
          "output_type": "stream",
          "name": "stdout",
          "text": [
            "la siguiente imagen corresponde al label: 5 correspondiente a: ha\n"
          ]
        },
        {
          "output_type": "display_data",
          "data": {
            "text/plain": [
              "<Figure size 432x288 with 1 Axes>"
            ],
            "image/png": "[encoded data removed]"
          },
          "metadata": {
            "needs_background": "light"
          }
        }
      ],
      "source": [
        "#Previsualización de una imagen dentro del dataset\n",
        "img, label = df[10]\n",
        "plt.imshow(img)\n",
        "plt.title('Registro 10 de KMNIST')\n",
        "print('la siguiente imagen corresponde al label:', label, 'correspondiente a:', df.classes[label])\n",
        "plt.show()"
      ],
      "id": "uRzgApSDxFAj"
    },
    {
      "cell_type": "code",
      "execution_count": null,
      "metadata": {
        "colab": {
          "base_uri": "https://localhost:8080/",
          "height": 298
        },
        "id": "UqTbNX9AxkPW",
        "outputId": "cecccb17-1698-4c1a-d7b8-7b7f3e9a684c"
      },
      "outputs": [
        {
          "output_type": "stream",
          "name": "stdout",
          "text": [
            "la siguiente imagen corresponde al label: 2 correspondiente a: su\n"
          ]
        },
        {
          "output_type": "display_data",
          "data": {
            "text/plain": [
              "<Figure size 432x288 with 1 Axes>"
            ],
            "image/png": "[encoded data removed]"
          },
          "metadata": {
            "needs_background": "light"
          }
        }
      ],
      "source": [
        "#Previsualización de una imagen dentro del dataset\n",
        "img2, label2 = df[90]\n",
        "plt.imshow(img2)\n",
        "plt.title('Registro 90 de KMNIST')\n",
        "print('la siguiente imagen corresponde al label:', label2, 'correspondiente a:', df.classes[label2])\n",
        "plt.show()"
      ],
      "id": "UqTbNX9AxkPW"
    },
    {
      "cell_type": "code",
      "execution_count": null,
      "metadata": {
        "colab": {
          "base_uri": "https://localhost:8080/",
          "height": 298
        },
        "id": "g0YxXIrjuiWe",
        "outputId": "4dc31318-771f-4778-96a0-a3dd5dd05782"
      },
      "outputs": [
        {
          "output_type": "stream",
          "name": "stdout",
          "text": [
            "la siguiente imagen corresponde al label: 3 correspondiente a: tsu\n"
          ]
        },
        {
          "output_type": "display_data",
          "data": {
            "text/plain": [
              "<Figure size 432x288 with 1 Axes>"
            ],
            "image/png": "[encoded data removed]"
          },
          "metadata": {
            "needs_background": "light"
          }
        }
      ],
      "source": [
        "#Previsualización de una imagen dentro del dataset\n",
        "img3, label3 = df[25000]\n",
        "plt.imshow(img3)\n",
        "plt.title('Registro 25000 de KMNIST')\n",
        "print('la siguiente imagen corresponde al label:', label3, 'correspondiente a:', df.classes[label3])\n",
        "plt.show()"
      ],
      "id": "g0YxXIrjuiWe"
    },
    {
      "cell_type": "markdown",
      "metadata": {
        "id": "VorRhgpyuqJ1"
      },
      "source": [
        "#### Transformación y Normalización de imagenes a tensor de PyTorch\n",
        "\n",
        "*Para seguir con el análisis y modelamiento, es requerido transformar los registros del dataset desde imágenes a tensores y, posteriormente, normalizar sus medidas de promedio y desviación estándar*"
      ],
      "id": "VorRhgpyuqJ1"
    },
    {
      "cell_type": "code",
      "execution_count": null,
      "metadata": {
        "id": "wucg13EczE0U"
      },
      "outputs": [],
      "source": [
        "# Transformar data a tensor de pytorch y normalizar\n",
        "df = datasets.KMNIST(\n",
        "    path, train=True, download=True, \n",
        "    transform=transforms.Compose([\n",
        "        transforms.ToTensor(),\n",
        "        transforms.Normalize((0.5,),(0.5,)),\n",
        "        transforms.Lambda(lambda x: x.repeat(3, 1, 1))\n",
        "        \n",
        "    ])\n",
        ")\n",
        "\n",
        "df_test = datasets.KMNIST(\n",
        "    path, train=False, download=True, \n",
        "    transform=transforms.Compose([\n",
        "        transforms.ToTensor(),\n",
        "        transforms.Normalize((0.5,),(0.5,)),\n",
        "        transforms.Lambda(lambda x: x.repeat(3, 1, 1))\n",
        "\n",
        "    ])\n",
        ")"
      ],
      "id": "wucg13EczE0U"
    },
    {
      "cell_type": "markdown",
      "metadata": {
        "id": "_wQhcBNYvXpQ"
      },
      "source": [
        "#### Información del dataset\n",
        "\n",
        "*En adelante, se muestra la descripción del set de datos de entrenamiento y de testeo: Ambos con la definición de dimensión, ubicación y las transformaciones que se han aplicado*"
      ],
      "id": "_wQhcBNYvXpQ"
    },
    {
      "cell_type": "code",
      "execution_count": null,
      "metadata": {
        "colab": {
          "base_uri": "https://localhost:8080/"
        },
        "id": "02z7M7An8gOs",
        "outputId": "d5431455-4702-4344-b276-4caaa545acfa"
      },
      "outputs": [
        {
          "output_type": "stream",
          "name": "stdout",
          "text": [
            "Entrenamiento:  Dataset KMNIST\n",
            "    Number of datapoints: 60000\n",
            "    Root location: ./data/\n",
            "    Split: Train\n",
            "    StandardTransform\n",
            "Transform: Compose(\n",
            "               ToTensor()\n",
            "               Normalize(mean=(0.5,), std=(0.5,))\n",
            "               Lambda()\n",
            "           )\n"
          ]
        }
      ],
      "source": [
        "print('Entrenamiento: ', df)"
      ],
      "id": "02z7M7An8gOs"
    },
    {
      "cell_type": "code",
      "execution_count": null,
      "metadata": {
        "colab": {
          "base_uri": "https://localhost:8080/"
        },
        "id": "6raNRzykyNnj",
        "outputId": "249ffc22-1f47-4a40-c720-08b5e0be54d2"
      },
      "outputs": [
        {
          "output_type": "stream",
          "name": "stdout",
          "text": [
            "Prueba:  Dataset KMNIST\n",
            "    Number of datapoints: 10000\n",
            "    Root location: ./data/\n",
            "    Split: Test\n",
            "    StandardTransform\n",
            "Transform: Compose(\n",
            "               ToTensor()\n",
            "               Normalize(mean=(0.5,), std=(0.5,))\n",
            "               Lambda()\n",
            "           )\n"
          ]
        }
      ],
      "source": [
        "print('Prueba: ', df_test)"
      ],
      "id": "6raNRzykyNnj"
    },
    {
      "cell_type": "markdown",
      "metadata": {
        "id": "a-V_wfTmwqva"
      },
      "source": [
        "#### Visualización de los registros transformados en Tensores\n",
        "\n",
        "*En adelante, se genera una demostración gráfica del nuevo registro tensor*"
      ],
      "id": "a-V_wfTmwqva"
    },
    {
      "cell_type": "code",
      "execution_count": null,
      "metadata": {
        "colab": {
          "base_uri": "https://localhost:8080/",
          "height": 316
        },
        "id": "jzSQMzCb0Aq0",
        "outputId": "1ae9439b-8341-4438-b40f-97221d1ec5c2"
      },
      "outputs": [
        {
          "output_type": "stream",
          "name": "stderr",
          "text": [
            "WARNING:matplotlib.image:Clipping input data to the valid range for imshow with RGB data ([0..1] for floats or [0..255] for integers).\n"
          ]
        },
        {
          "output_type": "stream",
          "name": "stdout",
          "text": [
            "La siguiente imagen corresponde al label: 5 correspondiente a: ha\n"
          ]
        },
        {
          "output_type": "display_data",
          "data": {
            "text/plain": [
              "<Figure size 432x288 with 1 Axes>"
            ],
            "image/png": "[encoded data removed]"
          },
          "metadata": {
            "needs_background": "light"
          }
        }
      ],
      "source": [
        "# Graficar la imagen transformada\n",
        "img_t, label = df[10]\n",
        "plt.imshow(torchvision.utils.make_grid(img_t, nrow=5).permute(1, 2, 0))\n",
        "plt.title('Registro 10 de KMNIST')\n",
        "print('La siguiente imagen corresponde al label:', label, 'correspondiente a:', df.classes[label])\n",
        "plt.show()"
      ],
      "id": "jzSQMzCb0Aq0"
    },
    {
      "cell_type": "markdown",
      "metadata": {
        "id": "3LP7wNot6kSL"
      },
      "source": [
        "### 2. Modelo\n",
        "\n",
        "*Dado el tipo de registros (imágenes) e información con la que se está trabajando en el presente proyecto, se decide configurar y entrenar el modelo **CNN** (Convolutional Neural Network)*\n",
        "\n",
        "*Para ello, se desarrolla, a continuación, la red neuronal con **2 hiden layers**, donde el registro de entrada al primer layer corresponde a un **input de 3 dimensiones** y la última **salida correspondería a 10 clases**.*"
      ],
      "id": "3LP7wNot6kSL"
    },
    {
      "cell_type": "code",
      "execution_count": null,
      "metadata": {
        "id": "a7cfc5a9"
      },
      "outputs": [],
      "source": [
        "# Model \n",
        "class CNN(nn.Module):\n",
        "    \"\"\"Cada arquitectura es una forma funcional de la red.\"\"\"\n",
        "    def __init__(self):\n",
        "        super().__init__()\n",
        "        self.conv1 = nn.Conv2d(3, 16, kernel_size=3, padding=1) # convolutional layer\n",
        "        self.conv2 = nn.Conv2d(16, 8, kernel_size=3, padding=1) # convolutional layer\n",
        "        self.fc1 = nn.Linear(8 * 7 * 7, 32)                     # Fully connected\n",
        "        self.fc2 = nn.Linear(32, 10)                             # Fully connected\n",
        "\n",
        "    def forward(self, x): # input img\n",
        "        out = F.max_pool2d(torch.tanh(self.conv1(x)), 2)        # max pooling torch.Size([64, 3, 28, 28])\n",
        "        #print(out.shape)\n",
        "        out = F.max_pool2d(torch.tanh(self.conv2(out)), 2)      # max pooling\n",
        "        #print(out.shape)\n",
        "        out = out.view(-1, 8 * 7 * 7)                           # tranform the out\n",
        "        out = torch.tanh(self.fc1(out))\n",
        "        out = self.fc2(out)\n",
        "        return out  # dim: number of class"
      ],
      "id": "a7cfc5a9"
    },
    {
      "cell_type": "markdown",
      "metadata": {
        "id": "Inqy_deA0BfY"
      },
      "source": [
        "*En la siguiente **función de entrenamiento**, queda definido genericamente el proceso en bucle al que deben someterse las imágenes/tensores para entrenar el modelo, donde se tiene como input la cantidad de iteraciones (epochs), el modelo (CNN), optimizador, la función de error y la definición de los batches*"
      ],
      "id": "Inqy_deA0BfY"
    },
    {
      "cell_type": "code",
      "execution_count": null,
      "metadata": {
        "id": "43d63284"
      },
      "outputs": [],
      "source": [
        "# Training function \n",
        "def training_loop(n_epochs, optimizer, model, loss_fn, train_loader):\n",
        "    loss_list = []\n",
        "    for epoch in range(1, n_epochs + 1):\n",
        "        loss_train = 0.0 \n",
        "        for imgs, labels in train_loader:  # batch \n",
        "            outputs = model(imgs)\n",
        "            loss = loss_fn(outputs, labels)\n",
        "            optimizer.zero_grad()\n",
        "            loss.backward()               # backpro\n",
        "            optimizer.step()              # update w\n",
        "            \n",
        "            loss_train += loss.item()\n",
        "        if epoch == 1 or epoch % 10 == 0:\n",
        "            print('Epoch {}, Training loss {}'.format(epoch,\n",
        "            loss_train / len(train_loader)))\n",
        "            loss_list.append(loss_train / len(train_loader))\n",
        "    return loss_list\n",
        "            "
      ],
      "id": "43d63284"
    },
    {
      "cell_type": "markdown",
      "metadata": {
        "id": "zefiuhZJwhPw"
      },
      "source": [
        "#### Entrenando el modelo...\n",
        "\n",
        "*Se ha decidido establecer distintos parámetros o weights para entrenar y evaluar el modelo CNN, donde:*\n",
        "\n",
        "  * *El **Optimizador** definido será **Adam**, dado que al ser una versión más actual y al estar construido en base a SGD, se espera un rendimiento superior en sus resultados*\n",
        "\n",
        "  * *La **Función de pérdida** será siendo **Cross Entropy** ya que este proyecto es de clasificación*"
      ],
      "id": "zefiuhZJwhPw"
    },
    {
      "cell_type": "markdown",
      "metadata": {
        "id": "N2rrI38D6jJs"
      },
      "source": [
        "**Hiperparámetros (W)**\n",
        "\n",
        "*En términos de los hiperparametros del modelo CNN:*\n",
        "\n",
        "- **Batches**: Se optará por **64**, en ambos escenarios, para la división de la base de datos.\n",
        "\n",
        "- **Learning Rate (lr)**: Este se definirá como **0.01**, con la intención de buscar el valor óptimo del error.\n",
        "\n",
        "- **Epochs**: La cantidad de iteraciones serán **200**, dado que se requiere un número alto, dado el volumen de los datos, para la búsqueda del valor óptimo y disminuir lo más posible el error."
      ],
      "id": "N2rrI38D6jJs"
    },
    {
      "cell_type": "code",
      "execution_count": null,
      "metadata": {
        "colab": {
          "base_uri": "https://localhost:8080/"
        },
        "id": "ACpxJY9Z1pQ0",
        "outputId": "26e710a4-1b7e-4eee-a4bd-36f813ddb464"
      },
      "outputs": [
        {
          "output_type": "execute_result",
          "data": {
            "text/plain": [
              "torch.Size([64, 8, 8, 8])"
            ]
          },
          "metadata": {},
          "execution_count": 14
        }
      ],
      "source": [
        "torch.randn(64,8,8,8).shape"
      ],
      "id": "ACpxJY9Z1pQ0"
    },
    {
      "cell_type": "code",
      "execution_count": null,
      "metadata": {
        "id": "UZM8HydN6viW"
      },
      "outputs": [],
      "source": [
        "# Dataloader\n",
        "train_loader = torch.utils.data.DataLoader(df, batch_size=64, shuffle=True)"
      ],
      "id": "UZM8HydN6viW"
    },
    {
      "cell_type": "code",
      "execution_count": null,
      "metadata": {
        "id": "vGMS1IfnOCQv"
      },
      "outputs": [],
      "source": [
        "model=CNN()"
      ],
      "id": "vGMS1IfnOCQv"
    },
    {
      "cell_type": "code",
      "execution_count": null,
      "metadata": {
        "colab": {
          "base_uri": "https://localhost:8080/"
        },
        "id": "U5vvARtm0iSB",
        "outputId": "b44c1e42-3398-4ab5-a5b6-5c7871de2ccf"
      },
      "outputs": [
        {
          "output_type": "stream",
          "name": "stdout",
          "text": [
            "tensor([[-6.8595e-02,  1.8521e-01, -2.6221e-03,  6.6278e-02,  1.7481e-01,\n",
            "         -4.1962e-02, -1.1985e-01, -5.3357e-02,  1.4840e-01,  8.1936e-03],\n",
            "        [-1.3658e-01,  6.3032e-02,  2.1617e-03, -1.3758e-02,  9.7502e-02,\n",
            "         -3.1831e-02, -1.6788e-01,  4.3322e-02,  1.7835e-01, -3.8539e-02],\n",
            "        [-9.6245e-02,  1.3800e-01,  6.9378e-02, -3.6714e-02,  1.2742e-01,\n",
            "         -6.8938e-02, -1.5896e-01, -5.7498e-02,  1.5495e-01, -2.5568e-03],\n",
            "        [-5.8700e-02,  1.7326e-01, -1.2344e-02,  2.8154e-02,  9.9990e-02,\n",
            "         -6.3566e-02, -1.2692e-01, -3.1759e-02,  1.7469e-01,  2.1892e-02],\n",
            "        [-4.8514e-02,  1.7127e-01, -1.8409e-02, -9.0930e-03,  9.2208e-02,\n",
            "         -1.1751e-01, -1.0620e-01, -2.4028e-03,  6.9620e-02,  1.5529e-01],\n",
            "        [-1.6705e-01,  5.9887e-02,  2.5957e-02, -8.5987e-02,  1.4879e-01,\n",
            "         -4.9171e-02, -1.5331e-01, -7.6323e-02,  9.4815e-02,  6.6492e-02],\n",
            "        [-6.5134e-02,  1.1808e-01, -7.2296e-02, -3.7045e-02,  4.0159e-02,\n",
            "         -4.5810e-02, -1.7139e-01, -6.2093e-02,  4.7426e-02,  3.3019e-02],\n",
            "        [-8.3326e-02,  1.0446e-01,  3.8817e-02,  4.0699e-02,  1.2441e-01,\n",
            "         -2.3654e-02, -1.7185e-01, -5.8926e-02,  1.5925e-01, -2.1591e-02],\n",
            "        [-9.6244e-02,  1.8021e-01,  2.1880e-02, -3.0961e-02,  1.3380e-01,\n",
            "         -4.1778e-02, -1.0843e-01, -2.4825e-02,  1.6955e-01,  3.6711e-03],\n",
            "        [-6.4039e-02,  1.8723e-01,  9.6801e-04,  4.8206e-02,  1.5146e-01,\n",
            "         -6.5374e-02, -1.2590e-01, -7.3044e-02,  2.4398e-01,  1.0427e-02],\n",
            "        [-1.0450e-01,  1.4879e-01, -4.6322e-02, -5.6737e-02,  5.4199e-02,\n",
            "         -5.6069e-02, -1.3132e-01, -1.9908e-02,  3.7991e-02,  9.7908e-02],\n",
            "        [-1.3664e-02,  1.9439e-01, -1.5610e-01, -3.1046e-02,  9.0609e-02,\n",
            "         -1.2179e-01, -4.0596e-02,  1.0091e-01,  1.8219e-01,  1.7064e-02],\n",
            "        [-5.8016e-02,  1.0501e-01, -2.3868e-02, -1.0404e-01,  1.2005e-01,\n",
            "         -3.6768e-02, -2.0206e-01, -6.4033e-02,  9.0486e-02,  1.0349e-02],\n",
            "        [-9.5446e-02,  9.0607e-02,  2.9070e-02, -3.7588e-03,  8.3639e-02,\n",
            "         -8.1899e-02, -1.5868e-01, -2.8347e-02,  1.6777e-01, -5.6560e-03],\n",
            "        [-1.1061e-01,  1.7329e-01, -5.4051e-02,  6.6437e-03,  1.1942e-01,\n",
            "         -1.3426e-01, -1.0101e-01, -4.1380e-02,  1.2926e-01,  3.4027e-02],\n",
            "        [-1.7875e-01,  1.0611e-01, -7.8286e-02, -9.2027e-02,  2.2911e-01,\n",
            "         -4.7383e-02, -9.9398e-02, -5.6243e-02,  1.5919e-01,  5.9705e-02],\n",
            "        [-1.1723e-01,  1.5758e-01,  1.6122e-02,  1.2464e-02,  1.1206e-01,\n",
            "         -1.2830e-01, -1.9095e-01, -1.4521e-02,  1.3864e-01,  3.0017e-04],\n",
            "        [-1.5655e-01,  9.1736e-02, -2.4027e-02, -1.8264e-02,  1.3613e-01,\n",
            "         -6.1846e-02, -2.0216e-01, -3.2863e-02,  1.1943e-01,  2.5558e-02],\n",
            "        [-9.7653e-02,  1.4676e-01,  1.7885e-02, -2.0660e-02,  1.3751e-01,\n",
            "          1.0703e-02, -1.8282e-01, -2.6924e-02,  1.9664e-01, -5.0163e-02],\n",
            "        [-1.0401e-01,  2.0640e-01, -3.9076e-02, -6.2811e-02,  7.1904e-02,\n",
            "         -5.7841e-02, -3.4908e-02, -1.8204e-03,  5.6051e-02,  7.3327e-02],\n",
            "        [-4.7662e-02,  2.4988e-01, -8.1959e-02, -1.1245e-02,  7.2244e-02,\n",
            "         -9.8015e-02, -1.0934e-01, -1.0528e-02,  7.4246e-02,  6.5466e-02],\n",
            "        [-1.4442e-01,  6.3895e-02,  2.6221e-02, -1.1297e-01,  1.9750e-02,\n",
            "         -7.1867e-02, -1.4063e-01, -1.8780e-03,  1.3526e-01,  3.7318e-02],\n",
            "        [-8.4397e-02,  1.5048e-01, -1.6485e-02, -3.3953e-02,  1.2003e-01,\n",
            "         -3.6060e-02, -1.4809e-01, -2.8102e-02,  1.3461e-01,  5.2091e-03],\n",
            "        [-7.2061e-02,  1.6866e-01,  1.6622e-02, -5.1837e-02,  8.9312e-02,\n",
            "         -4.9101e-02, -1.7000e-01, -2.7375e-02,  1.7136e-01, -5.9761e-02],\n",
            "        [-1.2256e-02,  1.1561e-01,  7.7655e-02, -3.9254e-02,  1.0816e-01,\n",
            "         -9.6547e-02, -2.3126e-01, -7.3083e-02,  9.1112e-02, -5.2036e-03],\n",
            "        [-8.2633e-02,  1.6920e-01, -7.6134e-02, -1.3202e-01,  1.3526e-01,\n",
            "         -1.1213e-01, -1.3805e-01, -2.0775e-02,  7.3505e-02,  9.2246e-02],\n",
            "        [-9.7168e-02,  1.4911e-01, -1.9497e-02, -1.4471e-02,  1.1057e-01,\n",
            "         -6.1110e-02, -1.5283e-01, -1.0692e-02,  1.5999e-01,  6.5609e-03],\n",
            "        [-6.2886e-02,  1.4107e-01, -5.0077e-02, -6.9138e-02,  4.1470e-02,\n",
            "         -4.5793e-02, -1.5169e-01,  2.8758e-02,  1.1101e-01,  6.3582e-02],\n",
            "        [-1.2029e-01,  1.6670e-01, -2.8352e-02,  4.4733e-02,  1.0793e-01,\n",
            "         -9.7703e-02, -1.0595e-01, -4.6153e-02,  1.4397e-01,  9.1545e-03],\n",
            "        [-6.0366e-02,  1.4479e-01, -6.5100e-02,  8.4792e-03,  5.2076e-02,\n",
            "         -1.3967e-01, -1.0077e-01,  3.1267e-02,  1.3690e-01,  6.8395e-02],\n",
            "        [-9.6015e-02,  1.1929e-01,  2.7609e-02,  1.5595e-02,  7.9370e-02,\n",
            "         -9.2021e-02, -1.4040e-01,  2.4095e-02,  1.8948e-01, -3.1403e-02],\n",
            "        [-2.2549e-02,  1.5474e-01, -8.3836e-02, -3.2988e-02,  5.7299e-02,\n",
            "         -7.8047e-03, -1.2851e-01,  8.8774e-02,  2.1253e-01, -2.6350e-02],\n",
            "        [-7.8308e-02,  1.6164e-01,  6.4752e-02,  1.0681e-01,  1.5642e-01,\n",
            "         -1.5150e-01, -1.5018e-01, -6.7539e-02,  9.6951e-02,  6.7168e-02],\n",
            "        [-1.6499e-01,  1.3034e-01,  6.8560e-02, -7.0253e-02,  1.0481e-01,\n",
            "         -8.3174e-02, -1.3383e-01, -3.1184e-02,  1.2659e-01,  9.1450e-02],\n",
            "        [-1.4507e-01,  9.6193e-02,  3.4599e-03,  3.7110e-02,  1.1215e-01,\n",
            "         -5.0994e-02, -1.5718e-01, -1.2721e-02,  1.0732e-01,  4.8519e-02],\n",
            "        [-2.2271e-02,  1.2852e-01,  6.2441e-02,  3.5506e-03,  6.6145e-03,\n",
            "         -1.8026e-01, -2.3596e-01, -5.7582e-02,  1.4298e-01, -5.8352e-02],\n",
            "        [-1.4407e-01,  1.2620e-01, -1.1065e-02, -6.1208e-02,  1.4288e-01,\n",
            "         -3.8218e-02, -1.7951e-01,  2.3616e-04,  1.4601e-01,  5.3840e-02],\n",
            "        [-1.3303e-01,  1.3935e-01, -6.2704e-03, -8.2538e-02,  8.3954e-02,\n",
            "         -5.0852e-04, -1.3464e-01, -8.4409e-02,  1.6064e-01, -4.3491e-03],\n",
            "        [-1.0223e-01,  1.6969e-01,  3.7441e-02, -3.2581e-02,  1.2024e-01,\n",
            "         -7.6096e-02, -5.0156e-02, -3.6667e-02,  1.8901e-01,  4.7815e-02],\n",
            "        [-6.7273e-02,  1.7882e-01, -2.7529e-02,  2.9027e-02,  1.1519e-01,\n",
            "         -1.5671e-01, -9.5611e-02, -7.5575e-03,  1.1449e-01,  2.1672e-02],\n",
            "        [-1.1787e-01,  1.3661e-01,  2.1204e-02, -3.2132e-02,  1.1282e-01,\n",
            "         -9.0061e-02, -1.0133e-01,  4.1467e-02,  1.3456e-01,  7.1346e-02],\n",
            "        [-1.0181e-01,  1.8061e-01, -5.6331e-02,  5.3998e-02,  1.3198e-01,\n",
            "         -1.2134e-01, -1.1552e-01, -6.6093e-02,  1.1311e-01,  4.0254e-02],\n",
            "        [-1.0463e-01,  9.3571e-02,  2.8517e-02, -2.5016e-02,  5.3559e-02,\n",
            "         -4.2950e-02, -1.2981e-01,  3.3452e-02,  1.9747e-01,  1.2334e-02],\n",
            "        [-1.7075e-01,  1.6609e-01,  1.7458e-02, -1.1288e-03,  1.8913e-01,\n",
            "         -5.8792e-02, -9.8385e-02, -2.5024e-02,  1.6204e-01,  7.5846e-02],\n",
            "        [-1.1336e-01,  1.0379e-01, -4.8349e-02, -2.4628e-02,  1.2334e-01,\n",
            "         -5.7242e-02, -1.5857e-01,  9.3691e-03,  9.2606e-02,  3.7395e-02],\n",
            "        [-1.2582e-01,  1.2811e-01, -6.2601e-02, -8.1043e-02,  1.0525e-01,\n",
            "         -1.0636e-01, -9.2935e-02,  1.2394e-02,  3.1669e-02,  1.0479e-01],\n",
            "        [-1.5533e-01,  1.4144e-01,  3.6867e-02, -2.8009e-02,  1.0159e-01,\n",
            "         -6.9884e-02, -1.5959e-01, -2.9305e-02,  1.5232e-01,  2.3274e-02],\n",
            "        [-1.1225e-01,  1.2941e-01, -1.0761e-01, -9.4796e-03,  1.9057e-01,\n",
            "         -2.0619e-02, -5.7891e-02,  3.5337e-02,  1.5286e-01,  2.8757e-02],\n",
            "        [-1.8405e-01,  1.0605e-01, -4.2834e-02, -2.4841e-02,  1.6648e-01,\n",
            "         -6.5125e-02, -1.6497e-01, -2.8274e-02,  1.3645e-01,  1.5872e-02],\n",
            "        [-5.3073e-02,  1.7346e-01, -3.1565e-02, -1.5208e-02,  1.2926e-01,\n",
            "         -3.6821e-02, -1.1646e-01, -1.8180e-02,  1.1060e-01,  4.0890e-02],\n",
            "        [ 1.7212e-02,  1.6381e-01, -8.5593e-02, -3.8939e-02,  3.1716e-02,\n",
            "         -1.8793e-02, -9.2918e-02,  4.7348e-02,  1.2439e-01,  9.7464e-02],\n",
            "        [-6.2574e-02,  1.3536e-01,  3.0795e-02, -4.7522e-02,  9.7527e-02,\n",
            "         -1.1224e-01, -2.6260e-01, -3.0719e-02,  8.5245e-02,  2.7216e-02],\n",
            "        [-1.1705e-01,  1.1354e-01,  2.3670e-02, -3.7337e-03,  1.1531e-01,\n",
            "         -1.1099e-01, -1.6639e-01, -5.8117e-02,  1.0680e-01,  3.5943e-02],\n",
            "        [ 1.7611e-02,  1.6323e-01, -2.1389e-02, -8.8831e-03,  5.9081e-02,\n",
            "         -9.9100e-02, -1.4832e-01, -3.3249e-02,  1.4439e-01,  2.5071e-02],\n",
            "        [-7.6278e-02,  1.4714e-01, -7.8142e-02, -1.4349e-01,  7.5032e-02,\n",
            "         -5.5058e-02, -1.3424e-01, -2.9296e-02,  6.8648e-02,  1.7550e-02],\n",
            "        [-1.1244e-01,  1.4172e-01,  2.8489e-02, -2.2708e-02,  6.1883e-02,\n",
            "         -1.2909e-01, -1.4801e-01, -3.9205e-02,  1.2320e-01,  3.0723e-02],\n",
            "        [-7.9990e-02,  1.4794e-01, -4.5088e-02, -5.3050e-02,  1.0025e-01,\n",
            "         -5.2459e-02, -1.9475e-01,  7.4062e-03,  7.9551e-02,  7.7955e-03],\n",
            "        [-1.4006e-01,  9.8443e-02, -2.3859e-02, -6.4929e-02,  8.1979e-02,\n",
            "         -6.2927e-02, -1.2989e-01,  6.4517e-05,  1.1532e-01,  5.3247e-02],\n",
            "        [-4.0112e-02,  1.7625e-01, -4.4602e-02,  1.7555e-02,  9.9442e-02,\n",
            "         -9.6204e-02, -1.4259e-01, -8.1909e-02,  1.6499e-01, -2.8898e-02],\n",
            "        [-8.9063e-02,  7.9528e-02,  2.1850e-02,  5.6649e-02,  1.4071e-01,\n",
            "         -6.1535e-02, -1.7190e-01, -7.5356e-03,  1.3045e-01,  4.3077e-02],\n",
            "        [-1.0474e-01,  1.4094e-01,  4.2544e-02, -3.8372e-02,  1.1798e-01,\n",
            "         -9.8638e-02, -1.6073e-01, -6.1238e-02,  1.5254e-01,  9.6911e-02],\n",
            "        [-1.0972e-01,  1.8498e-01, -5.6471e-02, -3.8393e-03,  1.4815e-01,\n",
            "         -1.3851e-01, -5.5460e-02, -4.4959e-03,  9.6126e-02,  1.1057e-01],\n",
            "        [-1.2410e-01,  1.3950e-01,  1.0310e-02,  1.6813e-03,  1.0952e-01,\n",
            "         -7.9122e-02, -8.5396e-02, -2.8020e-02,  1.7442e-01, -2.7761e-02],\n",
            "        [-9.5493e-02,  1.6248e-01,  3.1018e-02, -5.5755e-02,  1.3603e-01,\n",
            "         -1.0779e-01, -1.3348e-01,  2.4627e-02,  1.2793e-01,  6.2517e-02]],\n",
            "       grad_fn=<AddmmBackward0>)\n"
          ]
        }
      ],
      "source": [
        "count = 0\n",
        "for imgs, label in train_loader:\n",
        "  if count==0:\n",
        "    outputs = model(imgs)\n",
        "    #print(imgs.shape)\n",
        "    print(outputs)\n",
        "    count +=1"
      ],
      "id": "U5vvARtm0iSB"
    },
    {
      "cell_type": "code",
      "execution_count": null,
      "metadata": {
        "colab": {
          "base_uri": "https://localhost:8080/"
        },
        "id": "mbTpPpiLzwn0",
        "outputId": "f85b2251-77a2-48f0-d9f8-d77cfefa386a"
      },
      "outputs": [
        {
          "output_type": "execute_result",
          "data": {
            "text/plain": [
              "938"
            ]
          },
          "metadata": {},
          "execution_count": 18
        }
      ],
      "source": [
        "len(train_loader)"
      ],
      "id": "mbTpPpiLzwn0"
    },
    {
      "cell_type": "markdown",
      "metadata": {
        "id": "n3aFXKidT05U"
      },
      "source": [
        "#### **Procesando CNN con la muestra KMNIST...**"
      ],
      "id": "n3aFXKidT05U"
    },
    {
      "cell_type": "markdown",
      "metadata": {
        "id": "f3kRX2k5oYd7"
      },
      "source": [
        "*El escenario a analizar en el modelo CNN será considerando el dataset dividido en 64 Batches, Learning Rate de 0.01, Cross Entropy como función de pérdida y Adam como optimizador.*\n",
        "\n",
        "*Son 200 las iteraciones que se obtendrán al finalizar el proceso, dentro del cual, se obtendrán los valores resultantes de \"Loss\" en búsqueda del valor óptimo y disminución de errores.* \n",
        "\n",
        "*Con esto último, se generará un gráfico demostrativo **Loss vs Epochs**.*"
      ],
      "id": "f3kRX2k5oYd7"
    },
    {
      "cell_type": "code",
      "execution_count": null,
      "metadata": {
        "colab": {
          "base_uri": "https://localhost:8080/"
        },
        "id": "3guUP70ioSzb",
        "outputId": "261a17bb-356d-4a27-b4f5-31d54dd38811"
      },
      "outputs": [
        {
          "output_type": "stream",
          "name": "stdout",
          "text": [
            "Epoch 1, Training loss 0.45139565634956236\n",
            "Epoch 10, Training loss 0.2689787511830963\n",
            "Epoch 20, Training loss 0.23998635147870984\n",
            "Epoch 30, Training loss 0.23902098270558092\n",
            "Epoch 40, Training loss 0.22847294127111878\n",
            "Epoch 50, Training loss 0.28774777090927556\n",
            "Epoch 60, Training loss 0.29833444954553395\n",
            "Epoch 70, Training loss 0.2325431081766227\n",
            "Epoch 80, Training loss 0.23569660171914075\n",
            "Epoch 90, Training loss 0.23048652830654814\n",
            "Epoch 100, Training loss 0.23991862284952897\n",
            "Epoch 110, Training loss 0.24166882919794969\n",
            "Epoch 120, Training loss 0.2111249864260271\n",
            "Epoch 130, Training loss 0.22644737821374175\n",
            "Epoch 140, Training loss 0.21273629785155945\n",
            "Epoch 150, Training loss 0.22199744687103895\n",
            "Epoch 160, Training loss 0.21236457229296027\n",
            "Epoch 170, Training loss 0.2495363820264779\n",
            "Epoch 180, Training loss 0.24472356114639784\n",
            "Epoch 190, Training loss 0.21390426567376358\n",
            "Epoch 200, Training loss 0.22084970993877473\n"
          ]
        }
      ],
      "source": [
        "# Run, traning\n",
        "model = CNN()                                             # call our cnn class\n",
        "optimizer = torch.optim.Adam(model.parameters(), lr=0.01) # Adaptative Estimation\n",
        "loss_fn = nn.CrossEntropyLoss()                           # Loss function\n",
        "\n",
        "Loss = training_loop(\n",
        "    n_epochs = 200,\n",
        "    optimizer = optimizer,\n",
        "    model = model,\n",
        "    loss_fn = loss_fn,\n",
        "    train_loader = train_loader,\n",
        ")"
      ],
      "id": "3guUP70ioSzb"
    },
    {
      "cell_type": "markdown",
      "metadata": {
        "id": "tOG3yfM8q26d"
      },
      "source": [
        "*El resultado del procesamiento del modelo en su segundo escenario (ADAM - lr: 0.01), se ha demorado 1 hora con 50 minutos en terminar las 200 iteraciones, disminuyendo su valor de Loss desde 0.45 a 0.22, de lo cual se puede mencionar que:* **el valor óptimo dentro de las 200 iteraciones realizadas, se encuentra en la ante penúltima iteración mostrada, epoch 160, especificamente**"
      ],
      "id": "tOG3yfM8q26d"
    },
    {
      "cell_type": "markdown",
      "metadata": {
        "id": "v-kyRQ1ZsLZC"
      },
      "source": [
        "##### **Visualización de la función de pérdida (Loss Fn.)**\n",
        "\n",
        "*El siguiente gráfico presenta la curvatura que va tomando el error al avanzar las 200 iteraciones del modelo, de ello se puede mencionar que:*\n",
        "\n",
        "  * *En primera instancia, los errores toman valores altos que van disminuyendo al avanzar las iteraciones y, si bien el valor que va entregando Loss bordea el 0.2, también se presentan variaciones incrementales, representando una curva no homogénea ni líneal, donde se encuentra su valor óptimo en la ante penúltima iteración (160 -> 0.19).*"
      ],
      "id": "v-kyRQ1ZsLZC"
    },
    {
      "cell_type": "code",
      "execution_count": null,
      "metadata": {
        "id": "OWezzKzApz6z",
        "colab": {
          "base_uri": "https://localhost:8080/",
          "height": 499
        },
        "outputId": "278030f1-1c43-4a94-af51-ea8eb37c4371"
      },
      "outputs": [
        {
          "output_type": "execute_result",
          "data": {
            "text/plain": [
              "Text(0, 0.5, 'Loss')"
            ]
          },
          "metadata": {},
          "execution_count": 23
        },
        {
          "output_type": "display_data",
          "data": {
            "text/plain": [
              "<Figure size 720x480 with 1 Axes>"
            ],
            "image/png": "[encoded data removed]"
          },
          "metadata": {
            "needs_background": "light"
          }
        }
      ],
      "source": [
        "# plot loss\n",
        "plt.figure(dpi=120)\n",
        "plt.plot(Loss)\n",
        "plt.title('Valores de Loss respecto a Epochs')\n",
        "plt.xlabel('Epoch(x10)')\n",
        "plt.ylabel('Loss')"
      ],
      "id": "OWezzKzApz6z"
    },
    {
      "cell_type": "markdown",
      "metadata": {
        "id": "662VTrcjtZYU"
      },
      "source": [
        "### 3. Métricas y Resultados\n",
        "\n",
        "\n",
        "*Dentro de las métricas a calcular para definir qué tan bueno es el modelo desarrolado, se tienen las siguientes:*\n",
        "\n",
        "  - **Accuracy**\n",
        "\n",
        "  - **Precision**\n",
        "\n",
        "  - **Recall**\n",
        "\n",
        "  - **F1 Score**"
      ],
      "id": "662VTrcjtZYU"
    },
    {
      "cell_type": "code",
      "execution_count": null,
      "metadata": {
        "id": "n-vokr6iqi1e",
        "colab": {
          "base_uri": "https://localhost:8080/"
        },
        "outputId": "a54da4ba-9a4f-460a-ccc8-ff52c6c9d0c4"
      },
      "outputs": [
        {
          "output_type": "stream",
          "name": "stdout",
          "text": [
            "Accuracy train: 0.94\n",
            "Precision train: 0.88\n",
            "Recall train: 0.88\n",
            "F1 Score train: 0.88\n",
            "Accuracy val: 0.84\n",
            "Precision val: 0.88\n",
            "Recall val: 0.88\n",
            "F1 Score val: 0.89\n"
          ]
        }
      ],
      "source": [
        "# Testing metric\n",
        "train_loader = torch.utils.data.DataLoader(df, batch_size=64,\n",
        "                                            shuffle=False)\n",
        "test_loader = torch.utils.data.DataLoader(df_test, batch_size=64,\n",
        "                                            shuffle=False)\n",
        "#model\n",
        "def validate(model, train_loader, val_loader):\n",
        "    for name, loader in [(\"train\", train_loader), (\"val\", val_loader)]:\n",
        "        correct = 0\n",
        "        total = 0\n",
        "        with torch.no_grad():\n",
        "            for imgs, labels in loader:\n",
        "                outputs = model(imgs)\n",
        "                _, predicted = torch.max(outputs, dim=1)\n",
        "                total += labels.shape[0]\n",
        "                # metrics: Acc, F1, AUC, Precision, Recall, \n",
        "                correct += int((predicted == labels).sum())\n",
        "        print(\"Accuracy {}: {:.2f}\".format(name , correct / total))        \n",
        "        print(\"Precision {}: {:.2f}\".format(name , precision_score(labels.numpy(), predicted.numpy(), average='micro')))\n",
        "        print(\"Recall {}: {:.2f}\".format(name , recall_score(labels.numpy(), predicted.numpy(), average='micro')))\n",
        "        print(\"F1 Score {}: {:.2f}\".format(name , f1_score(labels.numpy(), predicted.numpy(), average='macro')))\n",
        "\n",
        "validate(model, train_loader, test_loader) "
      ],
      "id": "n-vokr6iqi1e"
    },
    {
      "cell_type": "markdown",
      "metadata": {
        "id": "Uvv9Lafot8PN"
      },
      "source": [
        "*De acuerdo a las métricas anteriores, se define que el **Modelo CNN** construido para clasificar en letras del japonés clásico imágenes de texto reimpreso es un modelo bueno para predecir, fundamentado en los valores de:*\n",
        "\n",
        "* **\"Accuracy\"**, *alcanzando un 94% con la data de entrenamiento y un 84% con la de testeo.\n",
        "\n",
        "  *Lo cual, indica que el Modelo en este escenario (Adam, lr=0.01) es capaz de acertar en el 94% de las letras japonesas de entrenamiento y 84% de testeo.*\n",
        "\n",
        "* **\"Precision\"**, *obteniendo un 88% en entrenamiento y 88% en testeo.*\n",
        "\n",
        "  *Presentando altos índices de calidad en el modelo.*\n",
        "\n",
        "* **\"Recall\"**, *resultando en el 88% dentro de las imágenes de entrenamiento y 88% de testeo.*\n",
        "\n",
        "  *Es decir, el modelo anterior, es capaz de aportar una alta cantidad de valores positivos correctamente clasificados.*\n",
        "\n",
        "* **\"F1 Score\"**, *presentando un 88% en cuanto a las imágenes de entrenamiento y un 89% en las de testeo.*\n",
        "\n",
        "  *Donde, se puede asumir que dentro del modelo, el índice de rendimiento entre precisión y exhaustividad es alto.*\n",
        "\n",
        "\n",
        "*De lo anterior, es relevante mencionar que en términos comparativos de valores de entrenamiento y de testeo, los resultados de las métricas presentadas son bastantes parecidas y superan el 80%, valor target definido como \"mínimo esperable\". Por lo tanto, son valores bastantes altos, en general. Determinando, nuevamente que **este modelo CNN es un buen modelo predictor/clasificador**.*"
      ],
      "id": "Uvv9Lafot8PN"
    },
    {
      "cell_type": "markdown",
      "metadata": {
        "id": "27A8JY8h08OZ"
      },
      "source": [
        "### Conclusión."
      ],
      "id": "27A8JY8h08OZ"
    },
    {
      "cell_type": "markdown",
      "metadata": {
        "id": "OsSjsXh-VyhW"
      },
      "source": [
        "*Finalmente, se puede concluir que el escenario evaluado construye un modelo que sirve para predecir y es bueno clasificando los registros del dataset KMNIST, capaz de categorizar en letras japonesas las imágenes presentadas de forma correcta aproximadamente en el 90% de ellas (superando el esperable que se definió al inicio del documento).*\n",
        "\n",
        "*En principio, se puede mencionar que al iniciar el procesamiento del modelo, presenta valores de Loss que, posteriormente, van disminuyendo hasta encontrar un punto óptimo previo a las 200 epochs, obteniendo fluctuaciones en su proceso.*\n",
        "\n",
        "*Ya posteriormente, al calcular las métricas definidas de clasificación, el escenario definido (ADAM, lr=0.01) obtiene excelentes resultados en cuanto a las imágenes de entrenamiento como las de testeo. Obteniendo altos índices de precisión en la predicción, en la calidad y cantidad de sus resultados correctos y en la exactitud de los mismos, nuevamente superando el 80% esperado.*\n",
        "\n",
        "*Por ende, **se define y elige como buen modelo**, dado que predice y categoriza de mejor manera las imágenes de texto reimpreso presentadas en el dataset KMNIST, siendo capaz de clasificar en letras del japonés clásico Kuzushiji con mayor **precisión**.*\n"
      ],
      "id": "OsSjsXh-VyhW"
    }
  ],
  "metadata": {
    "colab": {
      "collapsed_sections": [],
      "provenance": [],
      "include_colab_link": true
    },
    "kernelspec": {
      "display_name": "Python 3 (ipykernel)",
      "language": "python",
      "name": "python3"
    },
    "language_info": {
      "codemirror_mode": {
        "name": "ipython",
        "version": 3
      },
      "file_extension": ".py",
      "mimetype": "text/x-python",
      "name": "python",
      "nbconvert_exporter": "python",
      "pygments_lexer": "ipython3",
      "version": "3.8.11"
    },
    "widgets": {
      "application/vnd.jupyter.widget-state+json": {
        "4249983c8f4b493ea242293c34b78dec": {
          "model_module": "@jupyter-widgets/controls",
          "model_name": "HBoxModel",
          "model_module_version": "1.5.0",
          "state": {
            "_dom_classes": [],
            "_model_module": "@jupyter-widgets/controls",
            "_model_module_version": "1.5.0",
            "_model_name": "HBoxModel",
            "_view_count": null,
            "_view_module": "@jupyter-widgets/controls",
            "_view_module_version": "1.5.0",
            "_view_name": "HBoxView",
            "box_style": "",
            "children": [
              "IPY_MODEL_e1874cdb01bd47598723a376725f26d8",
              "IPY_MODEL_271f73384d5741f5ab8ce789a8e704bf",
              "IPY_MODEL_d194eff60a1849709f4336193a3c8d37"
            ],
            "layout": "IPY_MODEL_9e144107e9a04b4db080b90b810b3991"
          }
        },
        "e1874cdb01bd47598723a376725f26d8": {
          "model_module": "@jupyter-widgets/controls",
          "model_name": "HTMLModel",
          "model_module_version": "1.5.0",
          "state": {
            "_dom_classes": [],
            "_model_module": "@jupyter-widgets/controls",
            "_model_module_version": "1.5.0",
            "_model_name": "HTMLModel",
            "_view_count": null,
            "_view_module": "@jupyter-widgets/controls",
            "_view_module_version": "1.5.0",
            "_view_name": "HTMLView",
            "description": "",
            "description_tooltip": null,
            "layout": "IPY_MODEL_63a7862bb2fe4e97aa0be5c83238e58b",
            "placeholder": "​",
            "style": "IPY_MODEL_c9e14ec33b3c4ff1b2059ae6c59ccf8c",
            "value": "100%"
          }
        },
        "271f73384d5741f5ab8ce789a8e704bf": {
          "model_module": "@jupyter-widgets/controls",
          "model_name": "FloatProgressModel",
          "model_module_version": "1.5.0",
          "state": {
            "_dom_classes": [],
            "_model_module": "@jupyter-widgets/controls",
            "_model_module_version": "1.5.0",
            "_model_name": "FloatProgressModel",
            "_view_count": null,
            "_view_module": "@jupyter-widgets/controls",
            "_view_module_version": "1.5.0",
            "_view_name": "ProgressView",
            "bar_style": "success",
            "description": "",
            "description_tooltip": null,
            "layout": "IPY_MODEL_866110e5e6184400b0e788d1d2df4264",
            "max": 18165135,
            "min": 0,
            "orientation": "horizontal",
            "style": "IPY_MODEL_fe40e0c5f5824c4197b9dafafcf8b787",
            "value": 18165135
          }
        },
        "d194eff60a1849709f4336193a3c8d37": {
          "model_module": "@jupyter-widgets/controls",
          "model_name": "HTMLModel",
          "model_module_version": "1.5.0",
          "state": {
            "_dom_classes": [],
            "_model_module": "@jupyter-widgets/controls",
            "_model_module_version": "1.5.0",
            "_model_name": "HTMLModel",
            "_view_count": null,
            "_view_module": "@jupyter-widgets/controls",
            "_view_module_version": "1.5.0",
            "_view_name": "HTMLView",
            "description": "",
            "description_tooltip": null,
            "layout": "IPY_MODEL_fad7e169b7084440b06f5d6f2f4cb62e",
            "placeholder": "​",
            "style": "IPY_MODEL_c286b175dac14529809c03789774a5a6",
            "value": " 18165135/18165135 [00:10&lt;00:00, 1918195.22it/s]"
          }
        },
        "9e144107e9a04b4db080b90b810b3991": {
          "model_module": "@jupyter-widgets/base",
          "model_name": "LayoutModel",
          "model_module_version": "1.2.0",
          "state": {
            "_model_module": "@jupyter-widgets/base",
            "_model_module_version": "1.2.0",
            "_model_name": "LayoutModel",
            "_view_count": null,
            "_view_module": "@jupyter-widgets/base",
            "_view_module_version": "1.2.0",
            "_view_name": "LayoutView",
            "align_content": null,
            "align_items": null,
            "align_self": null,
            "border": null,
            "bottom": null,
            "display": null,
            "flex": null,
            "flex_flow": null,
            "grid_area": null,
            "grid_auto_columns": null,
            "grid_auto_flow": null,
            "grid_auto_rows": null,
            "grid_column": null,
            "grid_gap": null,
            "grid_row": null,
            "grid_template_areas": null,
            "grid_template_columns": null,
            "grid_template_rows": null,
            "height": null,
            "justify_content": null,
            "justify_items": null,
            "left": null,
            "margin": null,
            "max_height": null,
            "max_width": null,
            "min_height": null,
            "min_width": null,
            "object_fit": null,
            "object_position": null,
            "order": null,
            "overflow": null,
            "overflow_x": null,
            "overflow_y": null,
            "padding": null,
            "right": null,
            "top": null,
            "visibility": null,
            "width": null
          }
        },
        "63a7862bb2fe4e97aa0be5c83238e58b": {
          "model_module": "@jupyter-widgets/base",
          "model_name": "LayoutModel",
          "model_module_version": "1.2.0",
          "state": {
            "_model_module": "@jupyter-widgets/base",
            "_model_module_version": "1.2.0",
            "_model_name": "LayoutModel",
            "_view_count": null,
            "_view_module": "@jupyter-widgets/base",
            "_view_module_version": "1.2.0",
            "_view_name": "LayoutView",
            "align_content": null,
            "align_items": null,
            "align_self": null,
            "border": null,
            "bottom": null,
            "display": null,
            "flex": null,
            "flex_flow": null,
            "grid_area": null,
            "grid_auto_columns": null,
            "grid_auto_flow": null,
            "grid_auto_rows": null,
            "grid_column": null,
            "grid_gap": null,
            "grid_row": null,
            "grid_template_areas": null,
            "grid_template_columns": null,
            "grid_template_rows": null,
            "height": null,
            "justify_content": null,
            "justify_items": null,
            "left": null,
            "margin": null,
            "max_height": null,
            "max_width": null,
            "min_height": null,
            "min_width": null,
            "object_fit": null,
            "object_position": null,
            "order": null,
            "overflow": null,
            "overflow_x": null,
            "overflow_y": null,
            "padding": null,
            "right": null,
            "top": null,
            "visibility": null,
            "width": null
          }
        },
        "c9e14ec33b3c4ff1b2059ae6c59ccf8c": {
          "model_module": "@jupyter-widgets/controls",
          "model_name": "DescriptionStyleModel",
          "model_module_version": "1.5.0",
          "state": {
            "_model_module": "@jupyter-widgets/controls",
            "_model_module_version": "1.5.0",
            "_model_name": "DescriptionStyleModel",
            "_view_count": null,
            "_view_module": "@jupyter-widgets/base",
            "_view_module_version": "1.2.0",
            "_view_name": "StyleView",
            "description_width": ""
          }
        },
        "866110e5e6184400b0e788d1d2df4264": {
          "model_module": "@jupyter-widgets/base",
          "model_name": "LayoutModel",
          "model_module_version": "1.2.0",
          "state": {
            "_model_module": "@jupyter-widgets/base",
            "_model_module_version": "1.2.0",
            "_model_name": "LayoutModel",
            "_view_count": null,
            "_view_module": "@jupyter-widgets/base",
            "_view_module_version": "1.2.0",
            "_view_name": "LayoutView",
            "align_content": null,
            "align_items": null,
            "align_self": null,
            "border": null,
            "bottom": null,
            "display": null,
            "flex": null,
            "flex_flow": null,
            "grid_area": null,
            "grid_auto_columns": null,
            "grid_auto_flow": null,
            "grid_auto_rows": null,
            "grid_column": null,
            "grid_gap": null,
            "grid_row": null,
            "grid_template_areas": null,
            "grid_template_columns": null,
            "grid_template_rows": null,
            "height": null,
            "justify_content": null,
            "justify_items": null,
            "left": null,
            "margin": null,
            "max_height": null,
            "max_width": null,
            "min_height": null,
            "min_width": null,
            "object_fit": null,
            "object_position": null,
            "order": null,
            "overflow": null,
            "overflow_x": null,
            "overflow_y": null,
            "padding": null,
            "right": null,
            "top": null,
            "visibility": null,
            "width": null
          }
        },
        "fe40e0c5f5824c4197b9dafafcf8b787": {
          "model_module": "@jupyter-widgets/controls",
          "model_name": "ProgressStyleModel",
          "model_module_version": "1.5.0",
          "state": {
            "_model_module": "@jupyter-widgets/controls",
            "_model_module_version": "1.5.0",
            "_model_name": "ProgressStyleModel",
            "_view_count": null,
            "_view_module": "@jupyter-widgets/base",
            "_view_module_version": "1.2.0",
            "_view_name": "StyleView",
            "bar_color": null,
            "description_width": ""
          }
        },
        "fad7e169b7084440b06f5d6f2f4cb62e": {
          "model_module": "@jupyter-widgets/base",
          "model_name": "LayoutModel",
          "model_module_version": "1.2.0",
          "state": {
            "_model_module": "@jupyter-widgets/base",
            "_model_module_version": "1.2.0",
            "_model_name": "LayoutModel",
            "_view_count": null,
            "_view_module": "@jupyter-widgets/base",
            "_view_module_version": "1.2.0",
            "_view_name": "LayoutView",
            "align_content": null,
            "align_items": null,
            "align_self": null,
            "border": null,
            "bottom": null,
            "display": null,
            "flex": null,
            "flex_flow": null,
            "grid_area": null,
            "grid_auto_columns": null,
            "grid_auto_flow": null,
            "grid_auto_rows": null,
            "grid_column": null,
            "grid_gap": null,
            "grid_row": null,
            "grid_template_areas": null,
            "grid_template_columns": null,
            "grid_template_rows": null,
            "height": null,
            "justify_content": null,
            "justify_items": null,
            "left": null,
            "margin": null,
            "max_height": null,
            "max_width": null,
            "min_height": null,
            "min_width": null,
            "object_fit": null,
            "object_position": null,
            "order": null,
            "overflow": null,
            "overflow_x": null,
            "overflow_y": null,
            "padding": null,
            "right": null,
            "top": null,
            "visibility": null,
            "width": null
          }
        },
        "c286b175dac14529809c03789774a5a6": {
          "model_module": "@jupyter-widgets/controls",
          "model_name": "DescriptionStyleModel",
          "model_module_version": "1.5.0",
          "state": {
            "_model_module": "@jupyter-widgets/controls",
            "_model_module_version": "1.5.0",
            "_model_name": "DescriptionStyleModel",
            "_view_count": null,
            "_view_module": "@jupyter-widgets/base",
            "_view_module_version": "1.2.0",
            "_view_name": "StyleView",
            "description_width": ""
          }
        },
        "e9f27e8731bc42a687e9f6959e1776f5": {
          "model_module": "@jupyter-widgets/controls",
          "model_name": "HBoxModel",
          "model_module_version": "1.5.0",
          "state": {
            "_dom_classes": [],
            "_model_module": "@jupyter-widgets/controls",
            "_model_module_version": "1.5.0",
            "_model_name": "HBoxModel",
            "_view_count": null,
            "_view_module": "@jupyter-widgets/controls",
            "_view_module_version": "1.5.0",
            "_view_name": "HBoxView",
            "box_style": "",
            "children": [
              "IPY_MODEL_152f454add3d466287b00176585bade5",
              "IPY_MODEL_eb3d0b837dfc473d8719e1d2d331c234",
              "IPY_MODEL_cc186e031feb4fbea5592b40cc1ee282"
            ],
            "layout": "IPY_MODEL_90c732b4698d421cb47d0a6ec03fd9d6"
          }
        },
        "152f454add3d466287b00176585bade5": {
          "model_module": "@jupyter-widgets/controls",
          "model_name": "HTMLModel",
          "model_module_version": "1.5.0",
          "state": {
            "_dom_classes": [],
            "_model_module": "@jupyter-widgets/controls",
            "_model_module_version": "1.5.0",
            "_model_name": "HTMLModel",
            "_view_count": null,
            "_view_module": "@jupyter-widgets/controls",
            "_view_module_version": "1.5.0",
            "_view_name": "HTMLView",
            "description": "",
            "description_tooltip": null,
            "layout": "IPY_MODEL_447bc7f8e115474e97020311dbb645b1",
            "placeholder": "​",
            "style": "IPY_MODEL_e3a43cfc829d419ba07e59dbf7f733c8",
            "value": "100%"
          }
        },
        "eb3d0b837dfc473d8719e1d2d331c234": {
          "model_module": "@jupyter-widgets/controls",
          "model_name": "FloatProgressModel",
          "model_module_version": "1.5.0",
          "state": {
            "_dom_classes": [],
            "_model_module": "@jupyter-widgets/controls",
            "_model_module_version": "1.5.0",
            "_model_name": "FloatProgressModel",
            "_view_count": null,
            "_view_module": "@jupyter-widgets/controls",
            "_view_module_version": "1.5.0",
            "_view_name": "ProgressView",
            "bar_style": "success",
            "description": "",
            "description_tooltip": null,
            "layout": "IPY_MODEL_6fff367d4bcd45039ddedef28f28f383",
            "max": 29497,
            "min": 0,
            "orientation": "horizontal",
            "style": "IPY_MODEL_6de3d58b9afc4fa9b2ee4ede54fea244",
            "value": 29497
          }
        },
        "cc186e031feb4fbea5592b40cc1ee282": {
          "model_module": "@jupyter-widgets/controls",
          "model_name": "HTMLModel",
          "model_module_version": "1.5.0",
          "state": {
            "_dom_classes": [],
            "_model_module": "@jupyter-widgets/controls",
            "_model_module_version": "1.5.0",
            "_model_name": "HTMLModel",
            "_view_count": null,
            "_view_module": "@jupyter-widgets/controls",
            "_view_module_version": "1.5.0",
            "_view_name": "HTMLView",
            "description": "",
            "description_tooltip": null,
            "layout": "IPY_MODEL_2e72f43b75654d79b95353028b7606c6",
            "placeholder": "​",
            "style": "IPY_MODEL_abdd3ecb9d6140be9f763e8cbb592c94",
            "value": " 29497/29497 [00:00&lt;00:00, 168614.98it/s]"
          }
        },
        "90c732b4698d421cb47d0a6ec03fd9d6": {
          "model_module": "@jupyter-widgets/base",
          "model_name": "LayoutModel",
          "model_module_version": "1.2.0",
          "state": {
            "_model_module": "@jupyter-widgets/base",
            "_model_module_version": "1.2.0",
            "_model_name": "LayoutModel",
            "_view_count": null,
            "_view_module": "@jupyter-widgets/base",
            "_view_module_version": "1.2.0",
            "_view_name": "LayoutView",
            "align_content": null,
            "align_items": null,
            "align_self": null,
            "border": null,
            "bottom": null,
            "display": null,
            "flex": null,
            "flex_flow": null,
            "grid_area": null,
            "grid_auto_columns": null,
            "grid_auto_flow": null,
            "grid_auto_rows": null,
            "grid_column": null,
            "grid_gap": null,
            "grid_row": null,
            "grid_template_areas": null,
            "grid_template_columns": null,
            "grid_template_rows": null,
            "height": null,
            "justify_content": null,
            "justify_items": null,
            "left": null,
            "margin": null,
            "max_height": null,
            "max_width": null,
            "min_height": null,
            "min_width": null,
            "object_fit": null,
            "object_position": null,
            "order": null,
            "overflow": null,
            "overflow_x": null,
            "overflow_y": null,
            "padding": null,
            "right": null,
            "top": null,
            "visibility": null,
            "width": null
          }
        },
        "447bc7f8e115474e97020311dbb645b1": {
          "model_module": "@jupyter-widgets/base",
          "model_name": "LayoutModel",
          "model_module_version": "1.2.0",
          "state": {
            "_model_module": "@jupyter-widgets/base",
            "_model_module_version": "1.2.0",
            "_model_name": "LayoutModel",
            "_view_count": null,
            "_view_module": "@jupyter-widgets/base",
            "_view_module_version": "1.2.0",
            "_view_name": "LayoutView",
            "align_content": null,
            "align_items": null,
            "align_self": null,
            "border": null,
            "bottom": null,
            "display": null,
            "flex": null,
            "flex_flow": null,
            "grid_area": null,
            "grid_auto_columns": null,
            "grid_auto_flow": null,
            "grid_auto_rows": null,
            "grid_column": null,
            "grid_gap": null,
            "grid_row": null,
            "grid_template_areas": null,
            "grid_template_columns": null,
            "grid_template_rows": null,
            "height": null,
            "justify_content": null,
            "justify_items": null,
            "left": null,
            "margin": null,
            "max_height": null,
            "max_width": null,
            "min_height": null,
            "min_width": null,
            "object_fit": null,
            "object_position": null,
            "order": null,
            "overflow": null,
            "overflow_x": null,
            "overflow_y": null,
            "padding": null,
            "right": null,
            "top": null,
            "visibility": null,
            "width": null
          }
        },
        "e3a43cfc829d419ba07e59dbf7f733c8": {
          "model_module": "@jupyter-widgets/controls",
          "model_name": "DescriptionStyleModel",
          "model_module_version": "1.5.0",
          "state": {
            "_model_module": "@jupyter-widgets/controls",
            "_model_module_version": "1.5.0",
            "_model_name": "DescriptionStyleModel",
            "_view_count": null,
            "_view_module": "@jupyter-widgets/base",
            "_view_module_version": "1.2.0",
            "_view_name": "StyleView",
            "description_width": ""
          }
        },
        "6fff367d4bcd45039ddedef28f28f383": {
          "model_module": "@jupyter-widgets/base",
          "model_name": "LayoutModel",
          "model_module_version": "1.2.0",
          "state": {
            "_model_module": "@jupyter-widgets/base",
            "_model_module_version": "1.2.0",
            "_model_name": "LayoutModel",
            "_view_count": null,
            "_view_module": "@jupyter-widgets/base",
            "_view_module_version": "1.2.0",
            "_view_name": "LayoutView",
            "align_content": null,
            "align_items": null,
            "align_self": null,
            "border": null,
            "bottom": null,
            "display": null,
            "flex": null,
            "flex_flow": null,
            "grid_area": null,
            "grid_auto_columns": null,
            "grid_auto_flow": null,
            "grid_auto_rows": null,
            "grid_column": null,
            "grid_gap": null,
            "grid_row": null,
            "grid_template_areas": null,
            "grid_template_columns": null,
            "grid_template_rows": null,
            "height": null,
            "justify_content": null,
            "justify_items": null,
            "left": null,
            "margin": null,
            "max_height": null,
            "max_width": null,
            "min_height": null,
            "min_width": null,
            "object_fit": null,
            "object_position": null,
            "order": null,
            "overflow": null,
            "overflow_x": null,
            "overflow_y": null,
            "padding": null,
            "right": null,
            "top": null,
            "visibility": null,
            "width": null
          }
        },
        "6de3d58b9afc4fa9b2ee4ede54fea244": {
          "model_module": "@jupyter-widgets/controls",
          "model_name": "ProgressStyleModel",
          "model_module_version": "1.5.0",
          "state": {
            "_model_module": "@jupyter-widgets/controls",
            "_model_module_version": "1.5.0",
            "_model_name": "ProgressStyleModel",
            "_view_count": null,
            "_view_module": "@jupyter-widgets/base",
            "_view_module_version": "1.2.0",
            "_view_name": "StyleView",
            "bar_color": null,
            "description_width": ""
          }
        },
        "2e72f43b75654d79b95353028b7606c6": {
          "model_module": "@jupyter-widgets/base",
          "model_name": "LayoutModel",
          "model_module_version": "1.2.0",
          "state": {
            "_model_module": "@jupyter-widgets/base",
            "_model_module_version": "1.2.0",
            "_model_name": "LayoutModel",
            "_view_count": null,
            "_view_module": "@jupyter-widgets/base",
            "_view_module_version": "1.2.0",
            "_view_name": "LayoutView",
            "align_content": null,
            "align_items": null,
            "align_self": null,
            "border": null,
            "bottom": null,
            "display": null,
            "flex": null,
            "flex_flow": null,
            "grid_area": null,
            "grid_auto_columns": null,
            "grid_auto_flow": null,
            "grid_auto_rows": null,
            "grid_column": null,
            "grid_gap": null,
            "grid_row": null,
            "grid_template_areas": null,
            "grid_template_columns": null,
            "grid_template_rows": null,
            "height": null,
            "justify_content": null,
            "justify_items": null,
            "left": null,
            "margin": null,
            "max_height": null,
            "max_width": null,
            "min_height": null,
            "min_width": null,
            "object_fit": null,
            "object_position": null,
            "order": null,
            "overflow": null,
            "overflow_x": null,
            "overflow_y": null,
            "padding": null,
            "right": null,
            "top": null,
            "visibility": null,
            "width": null
          }
        },
        "abdd3ecb9d6140be9f763e8cbb592c94": {
          "model_module": "@jupyter-widgets/controls",
          "model_name": "DescriptionStyleModel",
          "model_module_version": "1.5.0",
          "state": {
            "_model_module": "@jupyter-widgets/controls",
            "_model_module_version": "1.5.0",
            "_model_name": "DescriptionStyleModel",
            "_view_count": null,
            "_view_module": "@jupyter-widgets/base",
            "_view_module_version": "1.2.0",
            "_view_name": "StyleView",
            "description_width": ""
          }
        },
        "a416e024f723440fa7ec7ebfb328ff7b": {
          "model_module": "@jupyter-widgets/controls",
          "model_name": "HBoxModel",
          "model_module_version": "1.5.0",
          "state": {
            "_dom_classes": [],
            "_model_module": "@jupyter-widgets/controls",
            "_model_module_version": "1.5.0",
            "_model_name": "HBoxModel",
            "_view_count": null,
            "_view_module": "@jupyter-widgets/controls",
            "_view_module_version": "1.5.0",
            "_view_name": "HBoxView",
            "box_style": "",
            "children": [
              "IPY_MODEL_0ad12487ece14190a1ea65623c6b619a",
              "IPY_MODEL_38227f11d01e4b35887166e227e7de05",
              "IPY_MODEL_804321f1379a42e6892889b8adea58d2"
            ],
            "layout": "IPY_MODEL_39722d17cf6741a4b9631642a90beca2"
          }
        },
        "0ad12487ece14190a1ea65623c6b619a": {
          "model_module": "@jupyter-widgets/controls",
          "model_name": "HTMLModel",
          "model_module_version": "1.5.0",
          "state": {
            "_dom_classes": [],
            "_model_module": "@jupyter-widgets/controls",
            "_model_module_version": "1.5.0",
            "_model_name": "HTMLModel",
            "_view_count": null,
            "_view_module": "@jupyter-widgets/controls",
            "_view_module_version": "1.5.0",
            "_view_name": "HTMLView",
            "description": "",
            "description_tooltip": null,
            "layout": "IPY_MODEL_dbd0d40bfa754dfcb78d43188e9bde67",
            "placeholder": "​",
            "style": "IPY_MODEL_c814ee59f735499ea95243e417b60725",
            "value": "100%"
          }
        },
        "38227f11d01e4b35887166e227e7de05": {
          "model_module": "@jupyter-widgets/controls",
          "model_name": "FloatProgressModel",
          "model_module_version": "1.5.0",
          "state": {
            "_dom_classes": [],
            "_model_module": "@jupyter-widgets/controls",
            "_model_module_version": "1.5.0",
            "_model_name": "FloatProgressModel",
            "_view_count": null,
            "_view_module": "@jupyter-widgets/controls",
            "_view_module_version": "1.5.0",
            "_view_name": "ProgressView",
            "bar_style": "success",
            "description": "",
            "description_tooltip": null,
            "layout": "IPY_MODEL_a246049c7cb44b148bbb0aa8c6b97d17",
            "max": 3041136,
            "min": 0,
            "orientation": "horizontal",
            "style": "IPY_MODEL_b507a6a844c24ef5a2a68bcce053dfe0",
            "value": 3041136
          }
        },
        "804321f1379a42e6892889b8adea58d2": {
          "model_module": "@jupyter-widgets/controls",
          "model_name": "HTMLModel",
          "model_module_version": "1.5.0",
          "state": {
            "_dom_classes": [],
            "_model_module": "@jupyter-widgets/controls",
            "_model_module_version": "1.5.0",
            "_model_name": "HTMLModel",
            "_view_count": null,
            "_view_module": "@jupyter-widgets/controls",
            "_view_module_version": "1.5.0",
            "_view_name": "HTMLView",
            "description": "",
            "description_tooltip": null,
            "layout": "IPY_MODEL_65d43522fa8e4bfca17471bc614a86de",
            "placeholder": "​",
            "style": "IPY_MODEL_e65cb1e7237f4fd0bbbae8de887d2724",
            "value": " 3041136/3041136 [00:02&lt;00:00, 1838017.33it/s]"
          }
        },
        "39722d17cf6741a4b9631642a90beca2": {
          "model_module": "@jupyter-widgets/base",
          "model_name": "LayoutModel",
          "model_module_version": "1.2.0",
          "state": {
            "_model_module": "@jupyter-widgets/base",
            "_model_module_version": "1.2.0",
            "_model_name": "LayoutModel",
            "_view_count": null,
            "_view_module": "@jupyter-widgets/base",
            "_view_module_version": "1.2.0",
            "_view_name": "LayoutView",
            "align_content": null,
            "align_items": null,
            "align_self": null,
            "border": null,
            "bottom": null,
            "display": null,
            "flex": null,
            "flex_flow": null,
            "grid_area": null,
            "grid_auto_columns": null,
            "grid_auto_flow": null,
            "grid_auto_rows": null,
            "grid_column": null,
            "grid_gap": null,
            "grid_row": null,
            "grid_template_areas": null,
            "grid_template_columns": null,
            "grid_template_rows": null,
            "height": null,
            "justify_content": null,
            "justify_items": null,
            "left": null,
            "margin": null,
            "max_height": null,
            "max_width": null,
            "min_height": null,
            "min_width": null,
            "object_fit": null,
            "object_position": null,
            "order": null,
            "overflow": null,
            "overflow_x": null,
            "overflow_y": null,
            "padding": null,
            "right": null,
            "top": null,
            "visibility": null,
            "width": null
          }
        },
        "dbd0d40bfa754dfcb78d43188e9bde67": {
          "model_module": "@jupyter-widgets/base",
          "model_name": "LayoutModel",
          "model_module_version": "1.2.0",
          "state": {
            "_model_module": "@jupyter-widgets/base",
            "_model_module_version": "1.2.0",
            "_model_name": "LayoutModel",
            "_view_count": null,
            "_view_module": "@jupyter-widgets/base",
            "_view_module_version": "1.2.0",
            "_view_name": "LayoutView",
            "align_content": null,
            "align_items": null,
            "align_self": null,
            "border": null,
            "bottom": null,
            "display": null,
            "flex": null,
            "flex_flow": null,
            "grid_area": null,
            "grid_auto_columns": null,
            "grid_auto_flow": null,
            "grid_auto_rows": null,
            "grid_column": null,
            "grid_gap": null,
            "grid_row": null,
            "grid_template_areas": null,
            "grid_template_columns": null,
            "grid_template_rows": null,
            "height": null,
            "justify_content": null,
            "justify_items": null,
            "left": null,
            "margin": null,
            "max_height": null,
            "max_width": null,
            "min_height": null,
            "min_width": null,
            "object_fit": null,
            "object_position": null,
            "order": null,
            "overflow": null,
            "overflow_x": null,
            "overflow_y": null,
            "padding": null,
            "right": null,
            "top": null,
            "visibility": null,
            "width": null
          }
        },
        "c814ee59f735499ea95243e417b60725": {
          "model_module": "@jupyter-widgets/controls",
          "model_name": "DescriptionStyleModel",
          "model_module_version": "1.5.0",
          "state": {
            "_model_module": "@jupyter-widgets/controls",
            "_model_module_version": "1.5.0",
            "_model_name": "DescriptionStyleModel",
            "_view_count": null,
            "_view_module": "@jupyter-widgets/base",
            "_view_module_version": "1.2.0",
            "_view_name": "StyleView",
            "description_width": ""
          }
        },
        "a246049c7cb44b148bbb0aa8c6b97d17": {
          "model_module": "@jupyter-widgets/base",
          "model_name": "LayoutModel",
          "model_module_version": "1.2.0",
          "state": {
            "_model_module": "@jupyter-widgets/base",
            "_model_module_version": "1.2.0",
            "_model_name": "LayoutModel",
            "_view_count": null,
            "_view_module": "@jupyter-widgets/base",
            "_view_module_version": "1.2.0",
            "_view_name": "LayoutView",
            "align_content": null,
            "align_items": null,
            "align_self": null,
            "border": null,
            "bottom": null,
            "display": null,
            "flex": null,
            "flex_flow": null,
            "grid_area": null,
            "grid_auto_columns": null,
            "grid_auto_flow": null,
            "grid_auto_rows": null,
            "grid_column": null,
            "grid_gap": null,
            "grid_row": null,
            "grid_template_areas": null,
            "grid_template_columns": null,
            "grid_template_rows": null,
            "height": null,
            "justify_content": null,
            "justify_items": null,
            "left": null,
            "margin": null,
            "max_height": null,
            "max_width": null,
            "min_height": null,
            "min_width": null,
            "object_fit": null,
            "object_position": null,
            "order": null,
            "overflow": null,
            "overflow_x": null,
            "overflow_y": null,
            "padding": null,
            "right": null,
            "top": null,
            "visibility": null,
            "width": null
          }
        },
        "b507a6a844c24ef5a2a68bcce053dfe0": {
          "model_module": "@jupyter-widgets/controls",
          "model_name": "ProgressStyleModel",
          "model_module_version": "1.5.0",
          "state": {
            "_model_module": "@jupyter-widgets/controls",
            "_model_module_version": "1.5.0",
            "_model_name": "ProgressStyleModel",
            "_view_count": null,
            "_view_module": "@jupyter-widgets/base",
            "_view_module_version": "1.2.0",
            "_view_name": "StyleView",
            "bar_color": null,
            "description_width": ""
          }
        },
        "65d43522fa8e4bfca17471bc614a86de": {
          "model_module": "@jupyter-widgets/base",
          "model_name": "LayoutModel",
          "model_module_version": "1.2.0",
          "state": {
            "_model_module": "@jupyter-widgets/base",
            "_model_module_version": "1.2.0",
            "_model_name": "LayoutModel",
            "_view_count": null,
            "_view_module": "@jupyter-widgets/base",
            "_view_module_version": "1.2.0",
            "_view_name": "LayoutView",
            "align_content": null,
            "align_items": null,
            "align_self": null,
            "border": null,
            "bottom": null,
            "display": null,
            "flex": null,
            "flex_flow": null,
            "grid_area": null,
            "grid_auto_columns": null,
            "grid_auto_flow": null,
            "grid_auto_rows": null,
            "grid_column": null,
            "grid_gap": null,
            "grid_row": null,
            "grid_template_areas": null,
            "grid_template_columns": null,
            "grid_template_rows": null,
            "height": null,
            "justify_content": null,
            "justify_items": null,
            "left": null,
            "margin": null,
            "max_height": null,
            "max_width": null,
            "min_height": null,
            "min_width": null,
            "object_fit": null,
            "object_position": null,
            "order": null,
            "overflow": null,
            "overflow_x": null,
            "overflow_y": null,
            "padding": null,
            "right": null,
            "top": null,
            "visibility": null,
            "width": null
          }
        },
        "e65cb1e7237f4fd0bbbae8de887d2724": {
          "model_module": "@jupyter-widgets/controls",
          "model_name": "DescriptionStyleModel",
          "model_module_version": "1.5.0",
          "state": {
            "_model_module": "@jupyter-widgets/controls",
            "_model_module_version": "1.5.0",
            "_model_name": "DescriptionStyleModel",
            "_view_count": null,
            "_view_module": "@jupyter-widgets/base",
            "_view_module_version": "1.2.0",
            "_view_name": "StyleView",
            "description_width": ""
          }
        },
        "d60056fc3d0f459e849da12f74a4245a": {
          "model_module": "@jupyter-widgets/controls",
          "model_name": "HBoxModel",
          "model_module_version": "1.5.0",
          "state": {
            "_dom_classes": [],
            "_model_module": "@jupyter-widgets/controls",
            "_model_module_version": "1.5.0",
            "_model_name": "HBoxModel",
            "_view_count": null,
            "_view_module": "@jupyter-widgets/controls",
            "_view_module_version": "1.5.0",
            "_view_name": "HBoxView",
            "box_style": "",
            "children": [
              "IPY_MODEL_a5b48714cf334ce09c542f7e3ab312bb",
              "IPY_MODEL_7e5f0e408a964d4f9f7d761e19df6614",
              "IPY_MODEL_e7830516df4e40be82edbd7c6040ea81"
            ],
            "layout": "IPY_MODEL_6a8e017178674e5494279451f7f6ceaa"
          }
        },
        "a5b48714cf334ce09c542f7e3ab312bb": {
          "model_module": "@jupyter-widgets/controls",
          "model_name": "HTMLModel",
          "model_module_version": "1.5.0",
          "state": {
            "_dom_classes": [],
            "_model_module": "@jupyter-widgets/controls",
            "_model_module_version": "1.5.0",
            "_model_name": "HTMLModel",
            "_view_count": null,
            "_view_module": "@jupyter-widgets/controls",
            "_view_module_version": "1.5.0",
            "_view_name": "HTMLView",
            "description": "",
            "description_tooltip": null,
            "layout": "IPY_MODEL_e0e6df99e8ad4cee8e1f8e01642a3dc4",
            "placeholder": "​",
            "style": "IPY_MODEL_6b6d7e90eb3444068c0cb826d4024c5c",
            "value": "100%"
          }
        },
        "7e5f0e408a964d4f9f7d761e19df6614": {
          "model_module": "@jupyter-widgets/controls",
          "model_name": "FloatProgressModel",
          "model_module_version": "1.5.0",
          "state": {
            "_dom_classes": [],
            "_model_module": "@jupyter-widgets/controls",
            "_model_module_version": "1.5.0",
            "_model_name": "FloatProgressModel",
            "_view_count": null,
            "_view_module": "@jupyter-widgets/controls",
            "_view_module_version": "1.5.0",
            "_view_name": "ProgressView",
            "bar_style": "success",
            "description": "",
            "description_tooltip": null,
            "layout": "IPY_MODEL_f2710ee6d3eb4acc927857190e7e81a2",
            "max": 5120,
            "min": 0,
            "orientation": "horizontal",
            "style": "IPY_MODEL_ea10541380234adc9dd2028bb881acef",
            "value": 5120
          }
        },
        "e7830516df4e40be82edbd7c6040ea81": {
          "model_module": "@jupyter-widgets/controls",
          "model_name": "HTMLModel",
          "model_module_version": "1.5.0",
          "state": {
            "_dom_classes": [],
            "_model_module": "@jupyter-widgets/controls",
            "_model_module_version": "1.5.0",
            "_model_name": "HTMLModel",
            "_view_count": null,
            "_view_module": "@jupyter-widgets/controls",
            "_view_module_version": "1.5.0",
            "_view_name": "HTMLView",
            "description": "",
            "description_tooltip": null,
            "layout": "IPY_MODEL_3d4b28783ac84d78946e068de7d12a4f",
            "placeholder": "​",
            "style": "IPY_MODEL_f3d444f7fe2644dca71b6ca0ab4d5e80",
            "value": " 5120/5120 [00:00&lt;00:00, 73926.76it/s]"
          }
        },
        "6a8e017178674e5494279451f7f6ceaa": {
          "model_module": "@jupyter-widgets/base",
          "model_name": "LayoutModel",
          "model_module_version": "1.2.0",
          "state": {
            "_model_module": "@jupyter-widgets/base",
            "_model_module_version": "1.2.0",
            "_model_name": "LayoutModel",
            "_view_count": null,
            "_view_module": "@jupyter-widgets/base",
            "_view_module_version": "1.2.0",
            "_view_name": "LayoutView",
            "align_content": null,
            "align_items": null,
            "align_self": null,
            "border": null,
            "bottom": null,
            "display": null,
            "flex": null,
            "flex_flow": null,
            "grid_area": null,
            "grid_auto_columns": null,
            "grid_auto_flow": null,
            "grid_auto_rows": null,
            "grid_column": null,
            "grid_gap": null,
            "grid_row": null,
            "grid_template_areas": null,
            "grid_template_columns": null,
            "grid_template_rows": null,
            "height": null,
            "justify_content": null,
            "justify_items": null,
            "left": null,
            "margin": null,
            "max_height": null,
            "max_width": null,
            "min_height": null,
            "min_width": null,
            "object_fit": null,
            "object_position": null,
            "order": null,
            "overflow": null,
            "overflow_x": null,
            "overflow_y": null,
            "padding": null,
            "right": null,
            "top": null,
            "visibility": null,
            "width": null
          }
        },
        "e0e6df99e8ad4cee8e1f8e01642a3dc4": {
          "model_module": "@jupyter-widgets/base",
          "model_name": "LayoutModel",
          "model_module_version": "1.2.0",
          "state": {
            "_model_module": "@jupyter-widgets/base",
            "_model_module_version": "1.2.0",
            "_model_name": "LayoutModel",
            "_view_count": null,
            "_view_module": "@jupyter-widgets/base",
            "_view_module_version": "1.2.0",
            "_view_name": "LayoutView",
            "align_content": null,
            "align_items": null,
            "align_self": null,
            "border": null,
            "bottom": null,
            "display": null,
            "flex": null,
            "flex_flow": null,
            "grid_area": null,
            "grid_auto_columns": null,
            "grid_auto_flow": null,
            "grid_auto_rows": null,
            "grid_column": null,
            "grid_gap": null,
            "grid_row": null,
            "grid_template_areas": null,
            "grid_template_columns": null,
            "grid_template_rows": null,
            "height": null,
            "justify_content": null,
            "justify_items": null,
            "left": null,
            "margin": null,
            "max_height": null,
            "max_width": null,
            "min_height": null,
            "min_width": null,
            "object_fit": null,
            "object_position": null,
            "order": null,
            "overflow": null,
            "overflow_x": null,
            "overflow_y": null,
            "padding": null,
            "right": null,
            "top": null,
            "visibility": null,
            "width": null
          }
        },
        "6b6d7e90eb3444068c0cb826d4024c5c": {
          "model_module": "@jupyter-widgets/controls",
          "model_name": "DescriptionStyleModel",
          "model_module_version": "1.5.0",
          "state": {
            "_model_module": "@jupyter-widgets/controls",
            "_model_module_version": "1.5.0",
            "_model_name": "DescriptionStyleModel",
            "_view_count": null,
            "_view_module": "@jupyter-widgets/base",
            "_view_module_version": "1.2.0",
            "_view_name": "StyleView",
            "description_width": ""
          }
        },
        "f2710ee6d3eb4acc927857190e7e81a2": {
          "model_module": "@jupyter-widgets/base",
          "model_name": "LayoutModel",
          "model_module_version": "1.2.0",
          "state": {
            "_model_module": "@jupyter-widgets/base",
            "_model_module_version": "1.2.0",
            "_model_name": "LayoutModel",
            "_view_count": null,
            "_view_module": "@jupyter-widgets/base",
            "_view_module_version": "1.2.0",
            "_view_name": "LayoutView",
            "align_content": null,
            "align_items": null,
            "align_self": null,
            "border": null,
            "bottom": null,
            "display": null,
            "flex": null,
            "flex_flow": null,
            "grid_area": null,
            "grid_auto_columns": null,
            "grid_auto_flow": null,
            "grid_auto_rows": null,
            "grid_column": null,
            "grid_gap": null,
            "grid_row": null,
            "grid_template_areas": null,
            "grid_template_columns": null,
            "grid_template_rows": null,
            "height": null,
            "justify_content": null,
            "justify_items": null,
            "left": null,
            "margin": null,
            "max_height": null,
            "max_width": null,
            "min_height": null,
            "min_width": null,
            "object_fit": null,
            "object_position": null,
            "order": null,
            "overflow": null,
            "overflow_x": null,
            "overflow_y": null,
            "padding": null,
            "right": null,
            "top": null,
            "visibility": null,
            "width": null
          }
        },
        "ea10541380234adc9dd2028bb881acef": {
          "model_module": "@jupyter-widgets/controls",
          "model_name": "ProgressStyleModel",
          "model_module_version": "1.5.0",
          "state": {
            "_model_module": "@jupyter-widgets/controls",
            "_model_module_version": "1.5.0",
            "_model_name": "ProgressStyleModel",
            "_view_count": null,
            "_view_module": "@jupyter-widgets/base",
            "_view_module_version": "1.2.0",
            "_view_name": "StyleView",
            "bar_color": null,
            "description_width": ""
          }
        },
        "3d4b28783ac84d78946e068de7d12a4f": {
          "model_module": "@jupyter-widgets/base",
          "model_name": "LayoutModel",
          "model_module_version": "1.2.0",
          "state": {
            "_model_module": "@jupyter-widgets/base",
            "_model_module_version": "1.2.0",
            "_model_name": "LayoutModel",
            "_view_count": null,
            "_view_module": "@jupyter-widgets/base",
            "_view_module_version": "1.2.0",
            "_view_name": "LayoutView",
            "align_content": null,
            "align_items": null,
            "align_self": null,
            "border": null,
            "bottom": null,
            "display": null,
            "flex": null,
            "flex_flow": null,
            "grid_area": null,
            "grid_auto_columns": null,
            "grid_auto_flow": null,
            "grid_auto_rows": null,
            "grid_column": null,
            "grid_gap": null,
            "grid_row": null,
            "grid_template_areas": null,
            "grid_template_columns": null,
            "grid_template_rows": null,
            "height": null,
            "justify_content": null,
            "justify_items": null,
            "left": null,
            "margin": null,
            "max_height": null,
            "max_width": null,
            "min_height": null,
            "min_width": null,
            "object_fit": null,
            "object_position": null,
            "order": null,
            "overflow": null,
            "overflow_x": null,
            "overflow_y": null,
            "padding": null,
            "right": null,
            "top": null,
            "visibility": null,
            "width": null
          }
        },
        "f3d444f7fe2644dca71b6ca0ab4d5e80": {
          "model_module": "@jupyter-widgets/controls",
          "model_name": "DescriptionStyleModel",
          "model_module_version": "1.5.0",
          "state": {
            "_model_module": "@jupyter-widgets/controls",
            "_model_module_version": "1.5.0",
            "_model_name": "DescriptionStyleModel",
            "_view_count": null,
            "_view_module": "@jupyter-widgets/base",
            "_view_module_version": "1.2.0",
            "_view_name": "StyleView",
            "description_width": ""
          }
        }
      }
    }
  },
  "nbformat": 4,
  "nbformat_minor": 5
}